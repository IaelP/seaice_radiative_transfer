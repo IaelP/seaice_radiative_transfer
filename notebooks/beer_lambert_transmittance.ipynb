{
 "cells": [
  {
   "cell_type": "markdown",
   "id": "d4acc406-d66d-4522-938c-e63b06512bc3",
   "metadata": {},
   "source": [
    "# Beer-Lambert Under-Ice Light Model\n",
    "\n",
    "The following notebook describes a Beer-Lambert light transmittance model describe by StroeveEtAl_BeerModel2021.  \n",
    "\n",
    "https://www.frontiersin.org/articles/10.3389/fmars.2020.592337/full\n",
    "\n",
    "[Webster_et_al_spatiotemporal_meltponds](https://online.ucpress.edu/elementa/article/10/1/000072/169460/Spatiotemporal-evolution-of-melt-ponds-on-Arctic)\n",
    "\n",
    "See BohrenAndClothiaux2006 for a discussion of the history of naming of Beer's Law."
   ]
  },
  {
   "cell_type": "code",
   "execution_count": 4,
   "id": "e0340bcb-e189-413f-8e3b-b224873d93c3",
   "metadata": {},
   "outputs": [],
   "source": [
    "import numpy as np"
   ]
  },
  {
   "cell_type": "code",
   "execution_count": 8,
   "id": "444d816a-551e-49e6-a45e-a04420814bf9",
   "metadata": {},
   "outputs": [],
   "source": [
    "# Constants\n",
    "\n",
    "transmission_parameter_bare_ice = 0.3\n",
    "transmission_parameter_snow = 0.3\n",
    "transmission_parameter_melt_ponds = 0.56\n",
    "ssl_height_water = 0.35  # m\n",
    "ssl_height_snow = 0.03  # m\n",
    "ssl_height_ice = 0.1  # m\n",
    "extinction_coefficient_dry_snow = 10.\n",
    "extinction_coefficient_wet_snow = 7.\n",
    "extinction_coefficient_bare_ice = 1."
   ]
  },
  {
   "cell_type": "markdown",
   "id": "356b207e-7546-49e0-a451-90a663fe6518",
   "metadata": {},
   "source": [
    "$$\n",
    "T_{snow} = i_{0,snow}(1-\\alpha_{snow})e^{(-k_{snow}(h_{snow}-h_{ssl,snow}))}e^{-k_{ice}h_{ice}}\n",
    "$$"
   ]
  },
  {
   "cell_type": "code",
   "execution_count": 11,
   "id": "0ea3452f-e98f-4ec4-9941-57ebe2a79cef",
   "metadata": {},
   "outputs": [],
   "source": [
    "def transmittance_snow_covered_sea_ice(hsnow, hice, albedo_snow, surface_temperature):\n",
    "    \"\"\"Returns the transmittance for snow covered sea ice\"\"\"\n",
    "    if surface_temperature < 273.15:\n",
    "        ksnow = extinction_coefficient_dry_snow\n",
    "    else:\n",
    "        ksnow = extinction_coefficient_wet_snow\n",
    "    a = transmission_parameter_snow\n",
    "    b = 1 - albedo_snow\n",
    "    c = np.exp(-1 * ksnow * (hsnow - ssl_height_snow))\n",
    "    d = np.exp(-1 * extinction_coefficient_bare_ice * hice)\n",
    "    return a * b * c * d"
   ]
  },
  {
   "cell_type": "code",
   "execution_count": 12,
   "id": "4b66c269-389f-4b1c-be5e-da9a86f6cdd4",
   "metadata": {},
   "outputs": [
    {
     "data": {
      "text/plain": [
       "0.00044986730461433095"
      ]
     },
     "execution_count": 12,
     "metadata": {},
     "output_type": "execute_result"
    }
   ],
   "source": [
    "transmittance_snow_covered_sea_ice(0.3, 1.5, 0.9, 272.)"
   ]
  },
  {
   "cell_type": "markdown",
   "id": "6263efad-ed9d-4809-9640-3c6a11986ec3",
   "metadata": {},
   "source": [
    "$$\n",
    "T_{ice} = i_{0,ice}(1-\\alpha_{ice})e^{(-k_{ice}(h_{ice} - h_{ssl,ice}))}\n",
    "$$"
   ]
  },
  {
   "cell_type": "code",
   "execution_count": 15,
   "id": "d09df4bc-46c4-48cf-95d0-d5432ea9bff4",
   "metadata": {},
   "outputs": [],
   "source": [
    "def transmittance_bare_ice(hice, albedo_ice):\n",
    "    \"\"\"Returns the transmittance for bare ice\"\"\"\n",
    "    a = transmission_parameter_bare_ice\n",
    "    b = 1 - albedo_ice\n",
    "    c = np.exp(-1. * extinction_coefficient_bare_ice * (hice - ssl_height_ice))\n",
    "    return a * b * c"
   ]
  },
  {
   "cell_type": "code",
   "execution_count": 16,
   "id": "3787f776-c894-4cd8-a6cd-1a2c7615ee3a",
   "metadata": {},
   "outputs": [
    {
     "data": {
      "text/plain": [
       "0.022193726754744587"
      ]
     },
     "execution_count": 16,
     "metadata": {},
     "output_type": "execute_result"
    }
   ],
   "source": [
    "transmittance_bare_ice(1.5, 0.7)"
   ]
  },
  {
   "cell_type": "markdown",
   "id": "3d362cdf-6e91-4aff-9eb0-2512b1c55e85",
   "metadata": {},
   "source": [
    "$$\n",
    "T_{pond} = i_{0,pond}(1 - \\alpha_{pond}) e^{-k_{ice}h_{ice}}\n",
    "$$"
   ]
  },
  {
   "cell_type": "code",
   "execution_count": 17,
   "id": "8736e3f6-e824-45cd-afcd-4b16c26ce0f3",
   "metadata": {},
   "outputs": [],
   "source": [
    "def transmittance_pond(hice, albedo_pond):\n",
    "    a = transmission_parameter_melt_ponds\n",
    "    b = 1 - albedo_pond\n",
    "    c = np.exp(-1. * extinction_coefficient_bare_ice * hice)\n",
    "    return a * b * c"
   ]
  },
  {
   "cell_type": "code",
   "execution_count": 18,
   "id": "1a246a91-5324-46bb-aecf-1d38328bfbbb",
   "metadata": {},
   "outputs": [
    {
     "data": {
      "text/plain": [
       "0.062476444841560355"
      ]
     },
     "execution_count": 18,
     "metadata": {},
     "output_type": "execute_result"
    }
   ],
   "source": [
    "transmittance_pond(1.5, 0.5)"
   ]
  },
  {
   "cell_type": "code",
   "execution_count": null,
   "id": "4419090c-f69a-4daa-be7f-c2d11007da5f",
   "metadata": {},
   "outputs": [],
   "source": []
  }
 ],
 "metadata": {
  "kernelspec": {
   "display_name": "Python 3",
   "language": "python",
   "name": "python3"
  },
  "language_info": {
   "codemirror_mode": {
    "name": "ipython",
    "version": 3
   },
   "file_extension": ".py",
   "mimetype": "text/x-python",
   "name": "python",
   "nbconvert_exporter": "python",
   "pygments_lexer": "ipython3",
   "version": "3.7.6"
  }
 },
 "nbformat": 4,
 "nbformat_minor": 5
}
