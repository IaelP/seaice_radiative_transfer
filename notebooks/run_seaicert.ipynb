{
 "cells": [
  {
   "cell_type": "markdown",
   "id": "49df6c7c-3736-4e12-9e08-d1be1916cf79",
   "metadata": {},
   "source": [
    "# Running the 1D Delta-Eddington Sea Ice Radiative Transfer Model: SeaIceRT\n",
    "\n",
    "SeaIceRT is a python interface for CESM3 Delta Eddington radiative transfer for sea ice. The radiative transfer code is written in Fortran 77. The python wrapper allows the sea ice parameters to be set, the code run and output returned.\n",
    "\n",
    "A full description of the radiative transfer code can be found in \n",
    "\n",
    "Briegleb, B. P., & Light, B. (2007). A Delta-Eddington Mutiple Scattering Parameterization for Solar Radiation in the Sea Ice Component of the Community Climate System Model (No. NCAR/TN-472+STR). University Corporation for Atmospheric Research. doi:10.5065/D6B27S71\n",
    "\n",
    "The following notebook describes how to run the model, change parameter values, retrieve results and also how to run for multiple points."
   ]
  },
  {
   "cell_type": "markdown",
   "id": "74b2756a-8510-4273-8a38-185f27875d8e",
   "metadata": {},
   "source": [
    "## A note on notebook usage\n",
    "\n",
    "This notebook will only run if the `seaicert` package is installed or if the `seaicert` folder for the `seaice_radiative_transfer` repo is in the python module search path.\n",
    "\n",
    "For instructions on how to install the `seaicert` package, see the README.md.\n",
    "\n",
    "If you do not want to install the `seaicert` package, running the following command in a code cell will add the `seaicert` path to the python module search path.\n",
    "\n",
    "```\n",
    "import sys\n",
    "sys.path.append(\"..\")\n",
    "```"
   ]
  },
  {
   "cell_type": "markdown",
   "id": "72b6d867-7bca-4e25-9eb2-0189c47a3968",
   "metadata": {},
   "source": [
    "## A simple \"Hello World\" Example\n",
    "\n",
    "The radiative transfer model is run using the `SeaIceRT` class, which contained in the `ccsm_sir_de` module.\n",
    "\n",
    "The `SeaIceRT` class is imported."
   ]
  },
  {
   "cell_type": "code",
   "execution_count": 6,
   "id": "29ec5a91-a515-42c1-977c-300d1ff58ce8",
   "metadata": {},
   "outputs": [],
   "source": [
    "from seaicert.ccsm3_sir_de import SeaIceRT"
   ]
  },
  {
   "cell_type": "markdown",
   "id": "69dfd2bb-46e7-45d9-8f34-fecf2a2970d4",
   "metadata": {},
   "source": [
    "A model instance is then created"
   ]
  },
  {
   "cell_type": "code",
   "execution_count": 2,
   "id": "d7927ebc-0405-4f6c-b4cd-f54616eb3442",
   "metadata": {},
   "outputs": [],
   "source": [
    "model = SeaIceRT()"
   ]
  },
  {
   "cell_type": "markdown",
   "id": "feb872e4-7298-4904-b38d-d8a4cf6d7722",
   "metadata": {},
   "source": [
    "The model is initialized with default parameter values for `day_of_year=140` (20 May), `latitude=80.`.  This allows for a quick test of the model.\n",
    "\n",
    "Running this test, or any other model parameterization is done using the `.run()` method."
   ]
  },
  {
   "cell_type": "code",
   "execution_count": 7,
   "id": "00c9195a-8f3c-4382-8bc7-d3430e716be3",
   "metadata": {
    "tags": []
   },
   "outputs": [],
   "source": [
    "model.run()"
   ]
  },
  {
   "cell_type": "markdown",
   "id": "ca65137c-83fa-4f12-8268-12498f4a5a35",
   "metadata": {},
   "source": [
    "Model results are printed using the `.print_results` method."
   ]
  },
  {
   "cell_type": "code",
   "execution_count": 8,
   "id": "0c095e4e-55da-496e-8601-35de18c22638",
   "metadata": {
    "collapsed": true,
    "jupyter": {
     "outputs_hidden": true
    },
    "tags": []
   },
   "outputs": [
    {
     "name": "stdout",
     "output_type": "stream",
     "text": [
      "----------------------------------------------------------------------\n",
      "CCSM3 Sea Ice Delta Eddington calculation\n",
      "----------------------------------------------------------------------\n",
      "----------------------------------------------------------------------\n",
      "Visible and near-ir direct and diffuse albedos\n",
      "   Visible: 0.2 to 0.7 micrometers\n",
      "   Near-IR: 0.7 to 5.0 micrometers\n",
      "----------------------------------------------------------------------\n",
      "Albedo shortwave direct: 0.17\n",
      "Albedo shortwave diffuse: 0.19\n",
      "Albedo longwave direct: 0.06\n",
      "Albedo longwave diffuse: 0.06\n",
      " \n",
      "----------------------------------------------------------------------\n",
      "Surface ansorption and Albedos\n",
      "----------------------------------------------------------------------\n",
      "Visible solar absorbed by ocean: 27.5656681060791\n",
      "Near-IR absorbed by ocean: 0.0\n",
      "----------------------------------------------------------------------\n",
      "Surface absorption ad albedos\n",
      "----------------------------------------------------------------------\n",
      "Solar vs direct surface irradiance:   0.12 Wm-2\n",
      " \n",
      "----------------------------------------------------------------------\n",
      "Snow/Sea ice transmitted flux (Tr fraction) and absorption (Q Wm-2)\n",
      "----------------------------------------------------------------------\n",
      "   Level      depth Tr_vs  Q_vs   Tr_ni  Q_ni   Q_total\n",
      "----------------------------------------------------------------------\n",
      " 0 surface                  26.88         68.01  94.89\n",
      "              0.000 1.0000        1.0000\n",
      " 1 pond                     12.76         67.06  79.82\n",
      "              0.250 0.9494        0.0130\n",
      " 2 pond                     12.08          0.93  13.01\n",
      "              0.500 0.8625        0.0002\n",
      " 3 ice                       2.05          0.02   2.07\n",
      "              0.050 0.7888        0.0000\n",
      " 4 ice                      10.84          0.00  10.84\n",
      "              0.375 0.6228        0.0000\n",
      " 5 ice                       9.41          0.00   9.41\n",
      "              0.750 0.4730        0.0000\n",
      " 6 ice                       6.78          0.00   6.78\n",
      "              1.125 0.3551        0.0000\n",
      " 7 ice                       4.61          0.00   4.61\n",
      "              1.500 0.2612        0.0000\n",
      " 8 ocean                    27.57          0.00  27.57\n"
     ]
    }
   ],
   "source": [
    "model.print_results()"
   ]
  },
  {
   "cell_type": "markdown",
   "id": "7402c21b-29db-43a2-a2d5-97c430f0c53b",
   "metadata": {
    "tags": []
   },
   "source": [
    "## Modifying input parameters\n",
    "\n",
    "Input parameters are modified by changing model attributes.  For example, to change pond depth to 0 m."
   ]
  },
  {
   "cell_type": "code",
   "execution_count": 9,
   "id": "14faa01d-37b0-41e7-a5d0-55629363e26b",
   "metadata": {
    "collapsed": true,
    "jupyter": {
     "outputs_hidden": true
    },
    "tags": []
   },
   "outputs": [
    {
     "name": "stdout",
     "output_type": "stream",
     "text": [
      "----------------------------------------------------------------------\n",
      "CCSM3 Sea Ice Delta Eddington calculation\n",
      "----------------------------------------------------------------------\n",
      "----------------------------------------------------------------------\n",
      "Visible and near-ir direct and diffuse albedos\n",
      "   Visible: 0.2 to 0.7 micrometers\n",
      "   Near-IR: 0.7 to 5.0 micrometers\n",
      "----------------------------------------------------------------------\n",
      "Albedo shortwave direct: 0.78\n",
      "Albedo shortwave diffuse: 0.75\n",
      "Albedo longwave direct: 0.49\n",
      "Albedo longwave diffuse: 0.45\n",
      " \n",
      "----------------------------------------------------------------------\n",
      "Surface ansorption and Albedos\n",
      "----------------------------------------------------------------------\n",
      "Visible solar absorbed by ocean: 8.12743854522705\n",
      "Near-IR absorbed by ocean: 0.0\n",
      "----------------------------------------------------------------------\n",
      "Surface absorption ad albedos\n",
      "----------------------------------------------------------------------\n",
      "Solar vs direct surface irradiance:   0.12 Wm-2\n",
      " \n",
      "----------------------------------------------------------------------\n",
      "Snow/Sea ice transmitted flux (Tr fraction) and absorption (Q Wm-2)\n",
      "----------------------------------------------------------------------\n",
      "   Level      depth Tr_vs  Q_vs   Tr_ni  Q_ni   Q_total\n",
      "----------------------------------------------------------------------\n",
      " 0 surface                   2.04         39.61  41.65\n",
      "              0.000 1.0000        1.0000\n",
      " 1 air                       0.00          0.00   0.00\n",
      "              0.000 1.0000        1.0000\n",
      " 2 air                       0.00          0.00   0.00\n",
      "              0.000 1.0000        1.0000\n",
      " 3 ice                       2.04         39.61  41.65\n",
      "              0.050 0.4526        0.1565\n",
      " 4 ice                      13.26         13.04  26.30\n",
      "              0.375 0.2535        0.0007\n",
      " 5 ice                       6.51          0.07   6.58\n",
      "              0.750 0.1756        0.0000\n",
      " 6 ice                       4.11          0.00   4.11\n",
      "              1.125 0.1173        0.0000\n",
      " 7 ice                       9.44          0.00   9.44\n",
      "              1.500 0.0465        0.0000\n",
      " 8 ocean                     8.13          0.00   8.13\n"
     ]
    }
   ],
   "source": [
    "model.pond_depth = 0.\n",
    "model.run()\n",
    "model.print_results()"
   ]
  },
  {
   "cell_type": "markdown",
   "id": "b266752e-bbd0-45f7-adf4-d21ed7eac47f",
   "metadata": {},
   "source": [
    "To change snow depth to 30 cm...\n",
    "\n",
    "_Note: If_ `snow_depth` _is greater than zero_ `pond_depth` _must be zero.  Likewise, if_ `pond_depth` _if greater than zero,_ `snow_depth` _must be zero.  If this condition is not met, a_ `ValueError` _exception is raised._"
   ]
  },
  {
   "cell_type": "code",
   "execution_count": 10,
   "id": "fbb52639-c1cc-42e9-bd86-5b291c30878d",
   "metadata": {
    "collapsed": true,
    "jupyter": {
     "outputs_hidden": true
    },
    "tags": []
   },
   "outputs": [
    {
     "name": "stdout",
     "output_type": "stream",
     "text": [
      "----------------------------------------------------------------------\n",
      "CCSM3 Sea Ice Delta Eddington calculation\n",
      "----------------------------------------------------------------------\n",
      "----------------------------------------------------------------------\n",
      "Visible and near-ir direct and diffuse albedos\n",
      "   Visible: 0.2 to 0.7 micrometers\n",
      "   Near-IR: 0.7 to 5.0 micrometers\n",
      "----------------------------------------------------------------------\n",
      "Albedo shortwave direct: 0.99\n",
      "Albedo shortwave diffuse: 0.98\n",
      "Albedo longwave direct: 0.79\n",
      "Albedo longwave diffuse: 0.77\n",
      " \n",
      "----------------------------------------------------------------------\n",
      "Surface ansorption and Albedos\n",
      "----------------------------------------------------------------------\n",
      "Visible solar absorbed by ocean: 0.0\n",
      "Near-IR absorbed by ocean: 0.0\n",
      "----------------------------------------------------------------------\n",
      "Surface absorption ad albedos\n",
      "----------------------------------------------------------------------\n",
      "Solar vs direct surface irradiance:   0.12 Wm-2\n",
      " \n",
      "----------------------------------------------------------------------\n",
      "Snow/Sea ice transmitted flux (Tr fraction) and absorption (Q Wm-2)\n",
      "----------------------------------------------------------------------\n",
      "   Level      depth Tr_vs  Q_vs   Tr_ni  Q_ni   Q_total\n",
      "----------------------------------------------------------------------\n",
      " 0 surface                   1.57         29.86  31.43\n",
      "              0.000 1.0000        1.0000\n",
      " 1 snow                      1.57         29.86  31.43\n",
      "              0.040 0.5679        0.0116\n",
      " 2 snow                      1.97          0.16   2.14\n",
      "              0.300 0.0004        0.0000\n",
      " 3 ice                       0.10          0.00   0.10\n",
      "              0.050 0.0000        0.0000\n",
      " 4 ice                       0.00          0.00   0.00\n",
      "              0.375 0.0000        0.0000\n",
      " 5 ice                       0.00          0.00   0.00\n",
      "              0.750 0.0000        0.0000\n",
      " 6 ice                       0.00          0.00   0.00\n",
      "              1.125 0.0000        0.0000\n",
      " 7 ice                       0.00          0.00   0.00\n",
      "              1.500 0.0000        0.0000\n",
      " 8 ocean                     0.00          0.00   0.00\n"
     ]
    }
   ],
   "source": [
    "model.snow_depth = 0.3\n",
    "model.run()\n",
    "model.print_results()"
   ]
  },
  {
   "cell_type": "markdown",
   "id": "13fccfbd-4256-4fba-afde-663f6826c874",
   "metadata": {},
   "source": [
    "A listing of input parameters values and parameter names is shown using the `print_parameters()` method.  Parameter descriptions, including expected dimensions and units can be seen by typing `help(model)`"
   ]
  },
  {
   "cell_type": "code",
   "execution_count": 4,
   "id": "d5ad0afd-09c3-4983-95f3-bda243a7899a",
   "metadata": {},
   "outputs": [
    {
     "name": "stdout",
     "output_type": "stream",
     "text": [
      "day_of_year = 140.477\n",
      "latitude = 80.0\n",
      "level = [18.0, 17.0, 16.0, 15.0, 14.0, 13.0, 12.0, 11.0, 10.0, 9.0, 8.0, 7.0, 6.0, 5.0, 4.0, 3.0, 2.0, 1.0]\n",
      "pressure = [2.0, 5.0, 15.0, 35.0, 60.0, 105.0, 160.0, 235.0, 320.0, 420.0, 520.0, 610.0, 710.0, 800.0, 870.0, 930.0, 970.0, 1000.0]\n",
      "air_temperature = [273.0, 251.0, 234.0, 226.0, 225.0, 225.0, 225.0, 225.0, 234.0, 247.0, 257.0, 265.0, 272.0, 277.0, 280.0, 281.0, 278.0, 276.0]\n",
      "water_vapor_mixing_ratio = [4e-06, 4e-06, 4e-06, 4e-06, 4e-06, 4e-06, 6.4e-06, 2.6e-05, 0.00012, 0.00052, 0.0011, 0.002, 0.0031, 0.0042, 0.0051, 0.0059, 0.004, 0.003]\n",
      "ozone_mixing_ratio = [7e-06, 1.3e-05, 1e-05, 5.5e-06, 4.2e-06, 2.2e-06, 1e-06, 5e-07, 2e-07, 1.4e-07, 1e-07, 8e-08, 7e-08, 6e-08, 5.5e-08, 5e-08, 4.5e-08, 4e-08]\n",
      "cloud_cover = [0.0, 0.0, 0.0, 0.0, 0.0, 0.0, 0.0, 0.0, 0.0, 0.0, 0.0, 0.0, 0.0, 0.0, 0.0, 1.0, 0.0, 0.0]\n",
      "cloud_liquid_water_path = [0.0, 0.0, 0.0, 0.0, 0.0, 0.0, 0.0, 0.0, 0.0, 0.0, 0.0, 0.0, 0.0, 0.0, 0.0, 60.0, 0.0, 0.0]\n",
      "surface_pressure = 1008.0\n",
      "co2_volume_mixing_ratio = 0.00037\n",
      "surface_air_temperature = 273.16\n",
      "ground_temperature = 273.16\n",
      "snow_depth = 0.0\n",
      "snow_density = 330.0\n",
      "snow_grain_radius = 50.0\n",
      "pond_depth = 0.5\n",
      "pond_tuning_parameter = -1.0\n",
      "sea_ice_thickness = 1.5\n",
      "sea_ice_tuning_parameter = 0.0\n"
     ]
    }
   ],
   "source": [
    "model.print_parameters()"
   ]
  },
  {
   "cell_type": "markdown",
   "id": "d0ce7f37-bd03-4957-9ee4-b26a26fec699",
   "metadata": {},
   "source": [
    "The model is run by invoking the `run` method"
   ]
  },
  {
   "cell_type": "markdown",
   "id": "30b47e9e-7866-4575-87d2-9074d232ee15",
   "metadata": {},
   "source": [
    "## Getting results as Python variables\n",
    "\n",
    "In most cases, you will want to be able to have results returned as variables, so that they can be used in a script.  The `get_results` method returns a dictionary of output parameters that can be accessed using normal python dictionary methods.\n",
    "\n",
    "The following code gets the results `dict` and then lists the names of the output keys.  Output variable names have been chosen to follow CF Convention standard names."
   ]
  },
  {
   "cell_type": "code",
   "execution_count": 11,
   "id": "105e4b1b-e860-4fd8-8d93-3dbc845622b0",
   "metadata": {},
   "outputs": [
    {
     "data": {
      "text/plain": [
       "['surface_direct_shortwave_reflectance',\n",
       " 'surface_diffuse_shortwave_reflectance',\n",
       " 'surface_direct_longwave_reflectance',\n",
       " 'surface_diffuse_longwave_reflectance',\n",
       " 'downwelling_shortwave_flux_absorbed_by_ocean',\n",
       " 'downwelling_longwave_flux_absorbed_by_ocean',\n",
       " 'downwelling_shortwave_flux_absorbed_by_seaice_layer',\n",
       " 'downwelling_longwave_flux_absorbed_by_seaice_layer',\n",
       " 'downwelling_radiative_flux_absorbed_by_seaice_layer',\n",
       " 'surface_downwelling_direct_shortwave_flux',\n",
       " 'surface_downwelling_diffuse_shortwave_flux',\n",
       " 'fraction_of_direct_shortwave_at_surface',\n",
       " 'surface_downwelling_direct_longwave_flux',\n",
       " 'surface_downwelling_diffuse_longwave_flux',\n",
       " 'fraction_of_direct_longwave_at_surface',\n",
       " 'surface_downwelling_radiative_flux',\n",
       " 'fraction_of_downwelling_radiative_flux_as_shortwave',\n",
       " 'surface_albedo',\n",
       " 'downwelling_shortwave_absorbed_by_seaice',\n",
       " 'downwelling_longwave_absorbed_seaice',\n",
       " 'downwelling_radiative_flux_absorbed_by_seaice_surface_layer',\n",
       " 'seaice_layer_type',\n",
       " 'fraction_of_shortwave_flux_transmitted_through_seaice_surface',\n",
       " 'fraction_of_longwave_flux_transmitted_through_seaice_surface',\n",
       " 'depth_of_seaice_layer_interface',\n",
       " 'fraction_of_surface_shortwave_flux_transmitted_to_layer',\n",
       " 'fraction_of_surface_longwave_flux_transmitted_to_layer',\n",
       " 'fraction_of_surface_shortwave_flux_transmitted_to_ocean',\n",
       " 'fraction_of_surface_longwave_flux_transmitted_to_ocean']"
      ]
     },
     "execution_count": 11,
     "metadata": {},
     "output_type": "execute_result"
    }
   ],
   "source": [
    "output = model.get_results()\n",
    "[out_param for out_param in output.keys()]"
   ]
  },
  {
   "cell_type": "markdown",
   "id": "26988d20-0cf5-405a-84f9-c6ba0bd79499",
   "metadata": {
    "tags": []
   },
   "source": [
    "Individual output variables are accessed using the normal python dictionary method\n",
    "\n",
    "```\n",
    "output[\"name_of_output_variable\"]\n",
    "```"
   ]
  },
  {
   "cell_type": "code",
   "execution_count": 13,
   "id": "16433d2f-9d88-44f5-99f1-7475806006d0",
   "metadata": {},
   "outputs": [
    {
     "data": {
      "text/plain": [
       "[1.0, 0.5679342150688171, 0.0004306391056161374, 0.0, 0.0, 0.0, 0.0, 0.0]"
      ]
     },
     "execution_count": 13,
     "metadata": {},
     "output_type": "execute_result"
    }
   ],
   "source": [
    "output[\"fraction_of_surface_shortwave_flux_transmitted_to_layer\"]"
   ]
  },
  {
   "cell_type": "code",
   "execution_count": 14,
   "id": "2d48e8c4-bc76-48c5-ac86-f0eb98096e3a",
   "metadata": {},
   "outputs": [
    {
     "data": {
      "text/plain": [
       "0.0"
      ]
     },
     "execution_count": 14,
     "metadata": {},
     "output_type": "execute_result"
    }
   ],
   "source": [
    "output[\"fraction_of_surface_shortwave_flux_transmitted_to_ocean\"]"
   ]
  },
  {
   "cell_type": "markdown",
   "id": "2a1f161c-42cb-4c65-957c-53a334922b41",
   "metadata": {},
   "source": [
    "## Running for Polarstern MOSAiC drift\n",
    "\n"
   ]
  },
  {
   "cell_type": "code",
   "execution_count": null,
   "id": "fd42dd3b-44e1-4022-a05c-b07993058604",
   "metadata": {},
   "outputs": [],
   "source": [
    "import pandas as pd"
   ]
  },
  {
   "cell_type": "code",
   "execution_count": null,
   "id": "9bb372aa-07d3-4113-83d8-0a779c256a69",
   "metadata": {},
   "outputs": [],
   "source": [
    "df = pd.read_csv(\"../data/rt_snow_input.csv\", index_col=0, header=0, parse_dates=True)\n",
    "df"
   ]
  },
  {
   "cell_type": "code",
   "execution_count": null,
   "id": "38f32110-4f6e-4014-9792-4a9ea7b3f108",
   "metadata": {},
   "outputs": [],
   "source": [
    "%%time\n",
    "\n",
    "model.snow_grain_radius = 180.\n",
    "\n",
    "timestamp = []\n",
    "sw_absorbed_by_ocean = []\n",
    "surface_albedo = []\n",
    "surface_downwelling_radiative_flux = []\n",
    "for idx, vals in df.iterrows():\n",
    "    model.day_of_year = idx.day_of_year + 0.5  # adjust for longitude?\n",
    "    model.latitude = vals[\"Latitude\"]\n",
    "    model.snow_depth = vals[\"Depth\"]\n",
    "    model.snow_density = vals[\"Density\"]\n",
    "    model.run()\n",
    "    output = model.get_results()\n",
    "    timestamp.append(idx)\n",
    "    sw_absorbed_by_ocean.append(output[\"downwelling_shortwave_flux_absorbed_by_ocean\"])\n",
    "    surface_albedo.append(output[\"surface_albedo\"])\n",
    "    surface_downwelling_radiative_flux.append(output[\"surface_downwelling_radiative_flux\"])\n",
    "    \n",
    "#df.index.day_of_year[0]"
   ]
  },
  {
   "cell_type": "code",
   "execution_count": null,
   "id": "16ea64d2-9aab-496f-8bbc-681dd96d5dcd",
   "metadata": {},
   "outputs": [],
   "source": [
    "import matplotlib.pyplot as plt\n",
    "import datetime as dt\n",
    "\n",
    "start_co2 = dt.datetime(2020, 6, 19)\n",
    "start_co3 = dt.datetime(2020, 8, 21)\n",
    "\n",
    "t0 = dt.datetime(2020, 5, 1)\n",
    "t1 = start_co3\n",
    "\n",
    "fig, ax = plt.subplots(4, 1, figsize=(10,7))\n",
    "ax[0].set_xlim(t0, t1)\n",
    "ax[0].plot(timestamp, sw_absorbed_by_ocean)\n",
    "ax[0].axvline(start_co2, color='k')\n",
    "ax[0].axvline(start_co3, color='k')\n",
    "\n",
    "ax[1].set_xlim(t0, t1)\n",
    "ax[1].plot(timestamp, surface_downwelling_radiative_flux)\n",
    "ax[1].axvline(start_co2, color='k')\n",
    "ax[1].axvline(start_co3, color='k')\n",
    "\n",
    "ax[2].set_xlim(t0, t1)\n",
    "ax[2].plot(df.index, df.Depth)\n",
    "ax[2].axvline(start_co2, color='k')\n",
    "ax[2].axvline(start_co3, color='k')\n",
    "\n",
    "ax[3].set_xlim(t0, t1)\n",
    "ax[3].plot(df.index, df.Density)\n",
    "ax[3].axvline(start_co2, color='k')\n",
    "ax[3].axvline(start_co3, color='k')\n"
   ]
  },
  {
   "cell_type": "code",
   "execution_count": null,
   "id": "a9023e37-9d1b-47a4-9bba-7a0a0a82ab08",
   "metadata": {},
   "outputs": [],
   "source": []
  }
 ],
 "metadata": {
  "kernelspec": {
   "display_name": "Python 3 (ipykernel)",
   "language": "python",
   "name": "python3"
  },
  "language_info": {
   "codemirror_mode": {
    "name": "ipython",
    "version": 3
   },
   "file_extension": ".py",
   "mimetype": "text/x-python",
   "name": "python",
   "nbconvert_exporter": "python",
   "pygments_lexer": "ipython3",
   "version": "3.10.0"
  }
 },
 "nbformat": 4,
 "nbformat_minor": 5
}
