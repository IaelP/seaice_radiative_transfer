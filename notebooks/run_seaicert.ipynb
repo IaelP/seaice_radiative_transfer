{
 "cells": [
  {
   "cell_type": "markdown",
   "id": "49df6c7c-3736-4e12-9e08-d1be1916cf79",
   "metadata": {},
   "source": [
    "# Running the 1D Delta-Eddington Sea Ice Radiative Transfer Model: SeaIceRT\n",
    "\n",
    "SeaIceRT is a python interface for CESM3 Delta Eddington radiative transfer for sea ice. The radiative transfer code is written in Fortran 77. The python wrapper allows the sea ice parameters to be set, the code run and output returned.\n",
    "\n",
    "A full description of the code can be found in \n",
    "\n",
    "Briegleb, B. P., & Light, B. (2007). A Delta-Eddington Mutiple Scattering Parameterization for Solar Radiation in the Sea Ice Component of the Community Climate System Model (No. NCAR/TN-472+STR). University Corporation for Atmospheric Research. doi:10.5065/D6B27S71\n",
    "\n",
    "The following notebook describes how to run the model, change parameter values, retrieve results and also how to run for multiple points."
   ]
  },
  {
   "cell_type": "code",
   "execution_count": 30,
   "id": "a02fcc0f-8ba0-4226-8f3c-0a824a33d31c",
   "metadata": {},
   "outputs": [],
   "source": [
    "# Append path for package\n",
    "import sys\n",
    "sys.path.append(\"../seaicert/\")"
   ]
  },
  {
   "cell_type": "markdown",
   "id": "72b6d867-7bca-4e25-9eb2-0189c47a3968",
   "metadata": {},
   "source": [
    "## Running the model\n",
    "The model is run using the `SeaIceRT` class, which contained in the `ccsm_sir_de` package."
   ]
  },
  {
   "cell_type": "code",
   "execution_count": 31,
   "id": "29ec5a91-a515-42c1-977c-300d1ff58ce8",
   "metadata": {},
   "outputs": [],
   "source": [
    "from ccsm3_sir_de import SeaIceRT"
   ]
  },
  {
   "cell_type": "markdown",
   "id": "69dfd2bb-46e7-45d9-8f34-fecf2a2970d4",
   "metadata": {},
   "source": [
    "A model instance is created"
   ]
  },
  {
   "cell_type": "code",
   "execution_count": 32,
   "id": "d7927ebc-0405-4f6c-b4cd-f54616eb3442",
   "metadata": {},
   "outputs": [],
   "source": [
    "model = SeaIceRT()"
   ]
  },
  {
   "cell_type": "markdown",
   "id": "c1ab0198-f0ec-4dad-a849-4eb312443495",
   "metadata": {},
   "source": [
    "The initial model instance has a default parameterisation.  Model parameters are accessed with the `get_parameters` method.\n",
    "\n",
    "__This should probably be changed to `print_parameters`__"
   ]
  },
  {
   "cell_type": "code",
   "execution_count": 33,
   "id": "d5ad0afd-09c3-4983-95f3-bda243a7899a",
   "metadata": {},
   "outputs": [
    {
     "name": "stdout",
     "output_type": "stream",
     "text": [
      "day_of_year = 140.477\n",
      "latitude = 80.0\n",
      "level = [18.0, 17.0, 16.0, 15.0, 14.0, 13.0, 12.0, 11.0, 10.0, 9.0, 8.0, 7.0, 6.0, 5.0, 4.0, 3.0, 2.0, 1.0]\n",
      "pressure = [2.0, 5.0, 15.0, 35.0, 60.0, 105.0, 160.0, 235.0, 320.0, 420.0, 520.0, 610.0, 710.0, 800.0, 870.0, 930.0, 970.0, 1000.0]\n",
      "air_temperature = [273.0, 251.0, 234.0, 226.0, 225.0, 225.0, 225.0, 225.0, 234.0, 247.0, 257.0, 265.0, 272.0, 277.0, 280.0, 281.0, 278.0, 276.0]\n",
      "water_vapor_mixing_ratio = [4e-06, 4e-06, 4e-06, 4e-06, 4e-06, 4e-06, 6.4e-06, 2.6e-05, 0.00012, 0.00052, 0.0011, 0.002, 0.0031, 0.0042, 0.0051, 0.0059, 0.004, 0.003]\n",
      "ozone_mixing_ratio = [7e-06, 1.3e-05, 1e-05, 5.5e-06, 4.2e-06, 2.2e-06, 1e-06, 5e-07, 2e-07, 1.4e-07, 1e-07, 8e-08, 7e-08, 6e-08, 5.5e-08, 5e-08, 4.5e-08, 4e-08]\n",
      "cloud_cover = [0.0, 0.0, 0.0, 0.0, 0.0, 0.0, 0.0, 0.0, 0.0, 0.0, 0.0, 0.0, 0.0, 0.0, 0.0, 1.0, 0.0, 0.0]\n",
      "cloud_liquid_water_path = [0.0, 0.0, 0.0, 0.0, 0.0, 0.0, 0.0, 0.0, 0.0, 0.0, 0.0, 0.0, 0.0, 0.0, 0.0, 60.0, 0.0, 0.0]\n",
      "surface_pressure = 1008.0\n",
      "co2_volume_mixing_ratio = 0.00037\n",
      "surface_air_temperature = 273.16\n",
      "ground_temperature = 273.16\n",
      "snow_depth = 0.0\n",
      "snow_density = 330.0\n",
      "snow_grain_radius = 50.0\n",
      "pond_depth = 0.5\n",
      "pond_tuning_parameter = -1.0\n",
      "sea_ice_thickness = 1.5\n",
      "sea_ice_tuning_parameter = 0.0\n"
     ]
    }
   ],
   "source": [
    "model.get_parameters()"
   ]
  },
  {
   "cell_type": "markdown",
   "id": "da299235-bbc9-488b-af96-b53ec0e79e7c",
   "metadata": {},
   "source": [
    "Parameter descriptions are in the model docstring"
   ]
  },
  {
   "cell_type": "code",
   "execution_count": 34,
   "id": "2d91d4a1-c417-4bfb-9e3b-cf60d4616e26",
   "metadata": {},
   "outputs": [
    {
     "name": "stdout",
     "output_type": "stream",
     "text": [
      "Help on SeaIceRT in module ccsm3_sir_de object:\n",
      "\n",
      "class SeaIceRT(builtins.object)\n",
      " |  Main class for running CCSM3_SIR_DE\n",
      " |  \n",
      " |  Model Parameters\n",
      " |  ----------------\n",
      " |  \n",
      " |  Spatio-temporal parameters:\n",
      " |  \n",
      " |  :day_of_year: day of year, 1..365, where day 1 = January 1\n",
      " |  :latitude: latitude (-90 to 90)  (test=80.)\n",
      " |  \n",
      " |  Surface characteristics:\n",
      " |  :surface_pressure:  Surface pressure in mb (test=1008 mb)\n",
      " |  :co2_volume_mixing_ratio:  CO2 volume mixing ratio (test 3.7e-04)\n",
      " |  :surface_air_temperature:  Surface air temperature (K) (test=273.16 K)\n",
      " |  :ground_temperature:  Surface skin temperature (K) (test=273.17 K)\n",
      " |  :snow_depth:  Physical snow depth in meters (test=0 m)\n",
      " |  :snow_density:  Snow density (kg/m3) (test=330 kg/m3)\n",
      " |  :snow_grain_radius:  Snow grain radius in microns (um) (test=50. um)\n",
      " |  :pond_depth:  Physical pond depth in meters (test=0.5 m)\n",
      " |  :pond_tuning_parameter:  Pond tuning parameter in standard deviations (test=-1.)\n",
      " |  :sea_ice_thickness:  Physical ice thickness in meters (test=1.5 m)\n",
      " |  :sea_ice_tuning_parameter:  Sea ice tuning parameter in standard deviations (test=0.)\n",
      " |  \n",
      " |  Atmospheric Profile - 18 element array-like objects\n",
      " |  :level: number id of level 1..18\n",
      " |  :pressure: Pressure in mb\n",
      " |  :air_temperature: air temperature in Kelvin\n",
      " |  :water_vapor_mixing_ratio:  Water vapour mixing ration (g/g)\n",
      " |  :ozone_mixing_ratio:  Ozone mixing ration (g/g)\n",
      " |  :cloud_cover:  Cloud cover - non-dimension 0.-1.\n",
      " |  :cloud_liquid_water_path: Cloud liquid water path (g/m2)\n",
      " |  \n",
      " |  \n",
      " |  Running the model\n",
      " |  In [1]: from ccsm3_sir_de import SeaIceRT\n",
      " |  \n",
      " |  In [2]: model = SeaIceRT()\n",
      " |  \n",
      " |  In [3]: model.run()\n",
      " |  \n",
      " |  # For a single column run, results can be printed to standard out\n",
      " |  In [17]: model.print_results()\n",
      " |  ----------------------------------------------------------------------\n",
      " |  CCSM3 Sea Ice Delta Eddington calculation\n",
      " |  ----------------------------------------------------------------------\n",
      " |  ----------------------------------------------------------------------\n",
      " |  Visible and near-ir direct and diffuse albedos\n",
      " |  Visible: 0.2 to 0.7 micrometers\n",
      " |  Near-IR: 0.7 to 5.0 micrometers\n",
      " |  ----------------------------------------------------------------------\n",
      " |  Albedo shortwave direct: 0.16\n",
      " |  Albedo shortwave diffuse: 0.19\n",
      " |  Albedo longwave direct: 0.04\n",
      " |  Albedo longwave diffuse: 0.06\n",
      " |  \n",
      " |  ...\n",
      " |  snip\n",
      " |  ...\n",
      " |  \n",
      " |  ----------------------------------------------------------------------\n",
      " |  Snow/Sea ice transmitted flux (Tr fraction) and absorption (Q Wm-2)\n",
      " |  ----------------------------------------------------------------------\n",
      " |  Level      depth Tr_vs  Q_vs   Tr_ni  Q_ni   Q_total\n",
      " |  ----------------------------------------------------------------------\n",
      " |  0 surface                  30.67         77.73 108.40\n",
      " |            0.000 1.0000        1.0000\n",
      " |  1 pond                     14.55         76.65  91.20\n",
      " |            0.250 0.9494        0.0130\n",
      " |  2 pond                     13.78          1.06  14.84\n",
      " |            0.500 0.8625        0.0002\n",
      " |  3 ice                       2.34          0.02   2.36\n",
      " |            0.050 0.7889        0.0000\n",
      " |  4 ice                      12.37          0.00  12.37\n",
      " |            0.375 0.6230        0.0000\n",
      " |  5 ice                      10.74          0.00  10.74\n",
      " |            0.750 0.4731        0.0000\n",
      " |  6 ice                       7.74          0.00   7.74\n",
      " |            1.125 0.3552        0.0000\n",
      " |  7 ice                       5.26          0.00   5.26\n",
      " |            1.500 0.2613        0.0000\n",
      " |  8 ocean                    31.46          0.00  31.46\n",
      " |  \n",
      " |  # Results can be returned as a dictionary\n",
      " |  results = model.get_results()\n",
      " |  \n",
      " |  # Individual fields can be accessed using normal dictionary access methods\n",
      " |  In [19]: results[\"downwelling_shortwave_flux_absorbed_by_ocean\"]\n",
      " |  Out[19]: 31.46452522277832\n",
      " |  \n",
      " |  TBD: add example for initialization and running\n",
      " |  \n",
      " |  Need methods to \n",
      " |     - repr input parameters\n",
      " |     - get inputs from file/ERA5 or some other reanalysis\n",
      " |  \n",
      " |  Methods defined here:\n",
      " |  \n",
      " |  __init__(self)\n",
      " |      Initialize self.  See help(type(self)) for accurate signature.\n",
      " |  \n",
      " |  __repr__(self)\n",
      " |      Return repr(self).\n",
      " |  \n",
      " |  get_parameters(self)\n",
      " |  \n",
      " |  get_results(self)\n",
      " |      Returns a dictionary of model results\n",
      " |  \n",
      " |  print_results(self)\n",
      " |  \n",
      " |  run(self)\n",
      " |      Run sea ice radiative transfer model\n",
      " |  \n",
      " |  ----------------------------------------------------------------------\n",
      " |  Data descriptors defined here:\n",
      " |  \n",
      " |  __dict__\n",
      " |      dictionary for instance variables (if defined)\n",
      " |  \n",
      " |  __weakref__\n",
      " |      list of weak references to the object (if defined)\n",
      "\n"
     ]
    }
   ],
   "source": [
    "help(model)"
   ]
  },
  {
   "cell_type": "markdown",
   "id": "a0973d30-ed1d-4eb9-b046-fc762ca34631",
   "metadata": {},
   "source": [
    "The model is run by invoking the `run` method"
   ]
  },
  {
   "cell_type": "code",
   "execution_count": 35,
   "id": "28a1720b-296c-416b-99e0-abcad8b89a59",
   "metadata": {},
   "outputs": [],
   "source": [
    "model.run()"
   ]
  },
  {
   "cell_type": "markdown",
   "id": "cb664fb5-e3e8-4bd2-90eb-0dc10be1f8b6",
   "metadata": {},
   "source": [
    "Results are printed using `print_results`"
   ]
  },
  {
   "cell_type": "code",
   "execution_count": 36,
   "id": "107f33a3-85fe-43ec-9437-7dceb23d92f0",
   "metadata": {},
   "outputs": [
    {
     "name": "stdout",
     "output_type": "stream",
     "text": [
      "----------------------------------------------------------------------\n",
      "CCSM3 Sea Ice Delta Eddington calculation\n",
      "----------------------------------------------------------------------\n",
      "----------------------------------------------------------------------\n",
      "Visible and near-ir direct and diffuse albedos\n",
      "   Visible: 0.2 to 0.7 micrometers\n",
      "   Near-IR: 0.7 to 5.0 micrometers\n",
      "----------------------------------------------------------------------\n",
      "Albedo shortwave direct: 0.17\n",
      "Albedo shortwave diffuse: 0.19\n",
      "Albedo longwave direct: 0.06\n",
      "Albedo longwave diffuse: 0.06\n",
      " \n",
      "----------------------------------------------------------------------\n",
      "Surface ansorption and Albedos\n",
      "----------------------------------------------------------------------\n",
      "Visible solar absorbed by ocean: 27.5656681060791\n",
      "Near-IR absorbed by ocean: 0.0\n",
      "----------------------------------------------------------------------\n",
      "Surface absorption ad albedos\n",
      "----------------------------------------------------------------------\n",
      "Solar vs direct surface irradiance:   0.12 Wm-2\n",
      " \n",
      "----------------------------------------------------------------------\n",
      "Snow/Sea ice transmitted flux (Tr fraction) and absorption (Q Wm-2)\n",
      "----------------------------------------------------------------------\n",
      "   Level      depth Tr_vs  Q_vs   Tr_ni  Q_ni   Q_total\n",
      "----------------------------------------------------------------------\n",
      " 0 surface                  26.88         68.01  94.89\n",
      "              0.000 1.0000        1.0000\n",
      " 1 pond                     12.76         67.06  79.82\n",
      "              0.250 0.9494        0.0130\n",
      " 2 pond                     12.08          0.93  13.01\n",
      "              0.500 0.8625        0.0002\n",
      " 3 ice                       2.05          0.02   2.07\n",
      "              0.050 0.7888        0.0000\n",
      " 4 ice                      10.84          0.00  10.84\n",
      "              0.375 0.6228        0.0000\n",
      " 5 ice                       9.41          0.00   9.41\n",
      "              0.750 0.4730        0.0000\n",
      " 6 ice                       6.78          0.00   6.78\n",
      "              1.125 0.3551        0.0000\n",
      " 7 ice                       4.61          0.00   4.61\n",
      "              1.500 0.2612        0.0000\n",
      " 8 ocean                    27.57          0.00  27.57\n"
     ]
    }
   ],
   "source": [
    "model.print_results()"
   ]
  },
  {
   "cell_type": "markdown",
   "id": "30b47e9e-7866-4575-87d2-9074d232ee15",
   "metadata": {},
   "source": [
    "The `get_results` method returns a dictionary of output parameters that can be accessed using normal python dictionary methods.    "
   ]
  },
  {
   "cell_type": "code",
   "execution_count": 37,
   "id": "105e4b1b-e860-4fd8-8d93-3dbc845622b0",
   "metadata": {},
   "outputs": [
    {
     "data": {
      "text/plain": [
       "['surface_direct_shortwave_reflectance',\n",
       " 'surface_diffuse_shortwave_reflectance',\n",
       " 'surface_direct_longwave_reflectance',\n",
       " 'surface_diffuse_longwave_reflectance',\n",
       " 'downwelling_shortwave_flux_absorbed_by_ocean',\n",
       " 'downwelling_longwave_flux_absorbed_by_ocean',\n",
       " 'downwelling_shortwave_flux_absorbed_by_seaice_layer',\n",
       " 'downwelling_longwave_flux_absorbed_by_seaice_layer',\n",
       " 'downwelling_radiative_flux_absorbed_by_seaice_layer',\n",
       " 'surface_downwelling_direct_shortwave_flux',\n",
       " 'surface_downwelling_diffuse_shortwave_flux',\n",
       " 'fraction_of_direct_shortwave_at_surface',\n",
       " 'surface_downwelling_direct_longwave_flux',\n",
       " 'surface_downwelling_diffuse_longwave_flux',\n",
       " 'fraction_of_direct_longwave_at_surface',\n",
       " 'surface_downwelling_radiative_flux',\n",
       " 'fraction_of_downwelling_radiative_flux_as_shortwave',\n",
       " 'surface_albedo',\n",
       " 'downwelling_shortwave_absorbed_by_seaice',\n",
       " 'downwelling_longwave_absorbed_seaice',\n",
       " 'downwelling_radiative_flux_absorbed_by_seaice_surface_layer',\n",
       " 'seaice_layer_type',\n",
       " 'fraction_of_shortwave_flux_transmitted_through_seaice_surface',\n",
       " 'fraction_of_longwave_flux_transmitted_through_seaice_surface',\n",
       " 'depth_of_seaice_layer_interface',\n",
       " 'fraction_of_surface_shortwave_flux_transmitted_to_layer',\n",
       " 'fraction_of_surface_longwave_flux_transmitted_to_layer',\n",
       " 'fraction_of_surface_shortwave_flux_transmitted_to_ocean',\n",
       " 'fraction_of_surface_longwave_flux_transmitted_to_ocean']"
      ]
     },
     "execution_count": 37,
     "metadata": {},
     "output_type": "execute_result"
    }
   ],
   "source": [
    "output = model.get_results()\n",
    "[out_param for out_param in output.keys()]"
   ]
  },
  {
   "cell_type": "code",
   "execution_count": 38,
   "id": "16433d2f-9d88-44f5-99f1-7475806006d0",
   "metadata": {},
   "outputs": [
    {
     "data": {
      "text/plain": [
       "[1.0,\n",
       " 0.949388325214386,\n",
       " 0.862453818321228,\n",
       " 0.7887846827507019,\n",
       " 0.6228340268135071,\n",
       " 0.4730173945426941,\n",
       " 0.35511964559555054,\n",
       " 0.261188805103302]"
      ]
     },
     "execution_count": 38,
     "metadata": {},
     "output_type": "execute_result"
    }
   ],
   "source": [
    "output[\"fraction_of_surface_shortwave_flux_transmitted_to_layer\"]"
   ]
  },
  {
   "cell_type": "code",
   "execution_count": 39,
   "id": "2d48e8c4-bc76-48c5-ac86-f0eb98096e3a",
   "metadata": {},
   "outputs": [
    {
     "data": {
      "text/plain": [
       "0.2585769295692444"
      ]
     },
     "execution_count": 39,
     "metadata": {},
     "output_type": "execute_result"
    }
   ],
   "source": [
    "output[\"fraction_of_surface_shortwave_flux_transmitted_to_ocean\"]"
   ]
  },
  {
   "cell_type": "markdown",
   "id": "4348cbda-4620-4f30-ad64-4b3aff4d76c2",
   "metadata": {
    "tags": []
   },
   "source": [
    "## Modifying input parameters\n",
    "\n",
    "Input parameters are modified by changing model attributes.  In this case we can change pond depth to 0 m."
   ]
  },
  {
   "cell_type": "code",
   "execution_count": 41,
   "id": "14faa01d-37b0-41e7-a5d0-55629363e26b",
   "metadata": {},
   "outputs": [
    {
     "name": "stdout",
     "output_type": "stream",
     "text": [
      "----------------------------------------------------------------------\n",
      "CCSM3 Sea Ice Delta Eddington calculation\n",
      "----------------------------------------------------------------------\n",
      "----------------------------------------------------------------------\n",
      "Visible and near-ir direct and diffuse albedos\n",
      "   Visible: 0.2 to 0.7 micrometers\n",
      "   Near-IR: 0.7 to 5.0 micrometers\n",
      "----------------------------------------------------------------------\n",
      "Albedo shortwave direct: 0.78\n",
      "Albedo shortwave diffuse: 0.75\n",
      "Albedo longwave direct: 0.49\n",
      "Albedo longwave diffuse: 0.45\n",
      " \n",
      "----------------------------------------------------------------------\n",
      "Surface ansorption and Albedos\n",
      "----------------------------------------------------------------------\n",
      "Visible solar absorbed by ocean: 8.12743854522705\n",
      "Near-IR absorbed by ocean: 0.0\n",
      "----------------------------------------------------------------------\n",
      "Surface absorption ad albedos\n",
      "----------------------------------------------------------------------\n",
      "Solar vs direct surface irradiance:   0.12 Wm-2\n",
      " \n",
      "----------------------------------------------------------------------\n",
      "Snow/Sea ice transmitted flux (Tr fraction) and absorption (Q Wm-2)\n",
      "----------------------------------------------------------------------\n",
      "   Level      depth Tr_vs  Q_vs   Tr_ni  Q_ni   Q_total\n",
      "----------------------------------------------------------------------\n",
      " 0 surface                   2.04         39.61  41.65\n",
      "              0.000 1.0000        1.0000\n",
      " 1 air                       0.00          0.00   0.00\n",
      "              0.000 1.0000        1.0000\n",
      " 2 air                       0.00          0.00   0.00\n",
      "              0.000 1.0000        1.0000\n",
      " 3 ice                       2.04         39.61  41.65\n",
      "              0.050 0.4526        0.1565\n",
      " 4 ice                      13.26         13.04  26.30\n",
      "              0.375 0.2535        0.0007\n",
      " 5 ice                       6.51          0.07   6.58\n",
      "              0.750 0.1756        0.0000\n",
      " 6 ice                       4.11          0.00   4.11\n",
      "              1.125 0.1173        0.0000\n",
      " 7 ice                       9.44          0.00   9.44\n",
      "              1.500 0.0465        0.0000\n",
      " 8 ocean                     8.13          0.00   8.13\n"
     ]
    }
   ],
   "source": [
    "model.pond_depth = 0.\n",
    "model.run()\n",
    "model.print_results()"
   ]
  },
  {
   "cell_type": "markdown",
   "id": "807c2c39-1bc7-4d87-8a36-764191e833ab",
   "metadata": {},
   "source": [
    "Likewise, change snow depth."
   ]
  },
  {
   "cell_type": "code",
   "execution_count": 42,
   "id": "fbb52639-c1cc-42e9-bd86-5b291c30878d",
   "metadata": {},
   "outputs": [
    {
     "name": "stdout",
     "output_type": "stream",
     "text": [
      "----------------------------------------------------------------------\n",
      "CCSM3 Sea Ice Delta Eddington calculation\n",
      "----------------------------------------------------------------------\n",
      "----------------------------------------------------------------------\n",
      "Visible and near-ir direct and diffuse albedos\n",
      "   Visible: 0.2 to 0.7 micrometers\n",
      "   Near-IR: 0.7 to 5.0 micrometers\n",
      "----------------------------------------------------------------------\n",
      "Albedo shortwave direct: 0.99\n",
      "Albedo shortwave diffuse: 0.98\n",
      "Albedo longwave direct: 0.79\n",
      "Albedo longwave diffuse: 0.77\n",
      " \n",
      "----------------------------------------------------------------------\n",
      "Surface ansorption and Albedos\n",
      "----------------------------------------------------------------------\n",
      "Visible solar absorbed by ocean: 0.0\n",
      "Near-IR absorbed by ocean: 0.0\n",
      "----------------------------------------------------------------------\n",
      "Surface absorption ad albedos\n",
      "----------------------------------------------------------------------\n",
      "Solar vs direct surface irradiance:   0.12 Wm-2\n",
      " \n",
      "----------------------------------------------------------------------\n",
      "Snow/Sea ice transmitted flux (Tr fraction) and absorption (Q Wm-2)\n",
      "----------------------------------------------------------------------\n",
      "   Level      depth Tr_vs  Q_vs   Tr_ni  Q_ni   Q_total\n",
      "----------------------------------------------------------------------\n",
      " 0 surface                   1.57         29.86  31.43\n",
      "              0.000 1.0000        1.0000\n",
      " 1 snow                      1.57         29.86  31.43\n",
      "              0.040 0.5679        0.0116\n",
      " 2 snow                      1.97          0.16   2.14\n",
      "              0.300 0.0004        0.0000\n",
      " 3 ice                       0.10          0.00   0.10\n",
      "              0.050 0.0000        0.0000\n",
      " 4 ice                       0.00          0.00   0.00\n",
      "              0.375 0.0000        0.0000\n",
      " 5 ice                       0.00          0.00   0.00\n",
      "              0.750 0.0000        0.0000\n",
      " 6 ice                       0.00          0.00   0.00\n",
      "              1.125 0.0000        0.0000\n",
      " 7 ice                       0.00          0.00   0.00\n",
      "              1.500 0.0000        0.0000\n",
      " 8 ocean                     0.00          0.00   0.00\n"
     ]
    }
   ],
   "source": [
    "model.snow_depth = 0.3\n",
    "model.run()\n",
    "model.print_results()"
   ]
  },
  {
   "cell_type": "markdown",
   "id": "2a1f161c-42cb-4c65-957c-53a334922b41",
   "metadata": {},
   "source": [
    "## Running for Polarstern MOSAiC drift\n",
    "\n"
   ]
  },
  {
   "cell_type": "code",
   "execution_count": 43,
   "id": "fd42dd3b-44e1-4022-a05c-b07993058604",
   "metadata": {},
   "outputs": [],
   "source": [
    "import pandas as pd"
   ]
  },
  {
   "cell_type": "code",
   "execution_count": 79,
   "id": "9bb372aa-07d3-4113-83d8-0a779c256a69",
   "metadata": {},
   "outputs": [
    {
     "data": {
      "text/html": [
       "<div>\n",
       "<style scoped>\n",
       "    .dataframe tbody tr th:only-of-type {\n",
       "        vertical-align: middle;\n",
       "    }\n",
       "\n",
       "    .dataframe tbody tr th {\n",
       "        vertical-align: top;\n",
       "    }\n",
       "\n",
       "    .dataframe thead th {\n",
       "        text-align: right;\n",
       "    }\n",
       "</style>\n",
       "<table border=\"1\" class=\"dataframe\">\n",
       "  <thead>\n",
       "    <tr style=\"text-align: right;\">\n",
       "      <th></th>\n",
       "      <th>Depth</th>\n",
       "      <th>Density</th>\n",
       "      <th>Latitude</th>\n",
       "      <th>Longitude</th>\n",
       "    </tr>\n",
       "    <tr>\n",
       "      <th>Date</th>\n",
       "      <th></th>\n",
       "      <th></th>\n",
       "      <th></th>\n",
       "      <th></th>\n",
       "    </tr>\n",
       "  </thead>\n",
       "  <tbody>\n",
       "    <tr>\n",
       "      <th>2019-10-05 12:00:00</th>\n",
       "      <td>0.163416</td>\n",
       "      <td>301.51227</td>\n",
       "      <td>85.100302</td>\n",
       "      <td>133.732597</td>\n",
       "    </tr>\n",
       "    <tr>\n",
       "      <th>2019-10-06 12:00:00</th>\n",
       "      <td>0.162295</td>\n",
       "      <td>303.89825</td>\n",
       "      <td>85.102400</td>\n",
       "      <td>133.862478</td>\n",
       "    </tr>\n",
       "    <tr>\n",
       "      <th>2019-10-07 12:00:00</th>\n",
       "      <td>0.152856</td>\n",
       "      <td>322.05740</td>\n",
       "      <td>85.067720</td>\n",
       "      <td>134.627573</td>\n",
       "    </tr>\n",
       "    <tr>\n",
       "      <th>2019-10-08 12:00:00</th>\n",
       "      <td>0.151041</td>\n",
       "      <td>335.22607</td>\n",
       "      <td>84.956227</td>\n",
       "      <td>136.223353</td>\n",
       "    </tr>\n",
       "    <tr>\n",
       "      <th>2019-10-09 12:00:00</th>\n",
       "      <td>0.156001</td>\n",
       "      <td>326.82974</td>\n",
       "      <td>84.902838</td>\n",
       "      <td>135.902912</td>\n",
       "    </tr>\n",
       "    <tr>\n",
       "      <th>...</th>\n",
       "      <td>...</td>\n",
       "      <td>...</td>\n",
       "      <td>...</td>\n",
       "      <td>...</td>\n",
       "    </tr>\n",
       "    <tr>\n",
       "      <th>2020-07-27 12:00:00</th>\n",
       "      <td>0.000000</td>\n",
       "      <td>0.00000</td>\n",
       "      <td>79.582463</td>\n",
       "      <td>-2.310762</td>\n",
       "    </tr>\n",
       "    <tr>\n",
       "      <th>2020-07-28 12:00:00</th>\n",
       "      <td>0.000000</td>\n",
       "      <td>0.00000</td>\n",
       "      <td>79.353650</td>\n",
       "      <td>-2.687590</td>\n",
       "    </tr>\n",
       "    <tr>\n",
       "      <th>2020-07-29 12:00:00</th>\n",
       "      <td>0.000000</td>\n",
       "      <td>0.00000</td>\n",
       "      <td>79.184568</td>\n",
       "      <td>-2.593293</td>\n",
       "    </tr>\n",
       "    <tr>\n",
       "      <th>2020-07-30 12:00:00</th>\n",
       "      <td>0.000000</td>\n",
       "      <td>0.00000</td>\n",
       "      <td>79.095065</td>\n",
       "      <td>-2.435108</td>\n",
       "    </tr>\n",
       "    <tr>\n",
       "      <th>2020-07-31 12:00:00</th>\n",
       "      <td>0.000000</td>\n",
       "      <td>0.00000</td>\n",
       "      <td>79.002760</td>\n",
       "      <td>-2.922762</td>\n",
       "    </tr>\n",
       "  </tbody>\n",
       "</table>\n",
       "<p>300 rows × 4 columns</p>\n",
       "</div>"
      ],
      "text/plain": [
       "                        Depth    Density   Latitude   Longitude\n",
       "Date                                                           \n",
       "2019-10-05 12:00:00  0.163416  301.51227  85.100302  133.732597\n",
       "2019-10-06 12:00:00  0.162295  303.89825  85.102400  133.862478\n",
       "2019-10-07 12:00:00  0.152856  322.05740  85.067720  134.627573\n",
       "2019-10-08 12:00:00  0.151041  335.22607  84.956227  136.223353\n",
       "2019-10-09 12:00:00  0.156001  326.82974  84.902838  135.902912\n",
       "...                       ...        ...        ...         ...\n",
       "2020-07-27 12:00:00  0.000000    0.00000  79.582463   -2.310762\n",
       "2020-07-28 12:00:00  0.000000    0.00000  79.353650   -2.687590\n",
       "2020-07-29 12:00:00  0.000000    0.00000  79.184568   -2.593293\n",
       "2020-07-30 12:00:00  0.000000    0.00000  79.095065   -2.435108\n",
       "2020-07-31 12:00:00  0.000000    0.00000  79.002760   -2.922762\n",
       "\n",
       "[300 rows x 4 columns]"
      ]
     },
     "execution_count": 79,
     "metadata": {},
     "output_type": "execute_result"
    }
   ],
   "source": [
    "df = pd.read_csv(\"../data/rt_snow_input.csv\", index_col=0, header=0, parse_dates=True)\n",
    "df"
   ]
  },
  {
   "cell_type": "code",
   "execution_count": 97,
   "id": "38f32110-4f6e-4014-9792-4a9ea7b3f108",
   "metadata": {},
   "outputs": [
    {
     "name": "stdout",
     "output_type": "stream",
     "text": [
      "CPU times: user 384 ms, sys: 4 ms, total: 388 ms\n",
      "Wall time: 386 ms\n"
     ]
    }
   ],
   "source": [
    "%%time\n",
    "timestamp = []\n",
    "sw_absorbed_by_ocean = []\n",
    "surface_albedo = []\n",
    "surface_downwelling_radiative_flux = []\n",
    "for idx, vals in df.iterrows():\n",
    "    model.day_of_year = idx.day_of_year + 0.5  # adjust for longitude?\n",
    "    model.latitude = vals[\"Latitude\"]\n",
    "    model.snow_depth = vals[\"Depth\"]\n",
    "    model.snow_density = vals[\"Density\"]\n",
    "    model.run()\n",
    "    output = model.get_results()\n",
    "    timestamp.append(idx)\n",
    "    sw_absorbed_by_ocean.append(output[\"downwelling_shortwave_flux_absorbed_by_ocean\"])\n",
    "    surface_albedo.append(output[\"surface_albedo\"])\n",
    "    surface_downwelling_radiative_flux.append(output[\"surface_downwelling_radiative_flux\"])\n",
    "    \n",
    "#df.index.day_of_year[0]"
   ]
  },
  {
   "cell_type": "code",
   "execution_count": 98,
   "id": "16ea64d2-9aab-496f-8bbc-681dd96d5dcd",
   "metadata": {},
   "outputs": [
    {
     "data": {
      "text/plain": [
       "[<matplotlib.lines.Line2D at 0x7f10d146afd0>]"
      ]
     },
     "execution_count": 98,
     "metadata": {},
     "output_type": "execute_result"
    },
    {
     "data": {
      "image/png": "[encoded data removed]",
      "text/plain": [
       "<Figure size 720x504 with 2 Axes>"
      ]
     },
     "metadata": {
      "needs_background": "light"
     },
     "output_type": "display_data"
    }
   ],
   "source": [
    "import matplotlib.pyplot as plt\n",
    "fig, ax = plt.subplots(2, 1, figsize=(10,7))\n",
    "ax[0].plot(timestamp, sw_absorbed_by_ocean)\n",
    "ax[1].plot(timestamp, surface_downwelling_radiative_flux)"
   ]
  },
  {
   "cell_type": "code",
   "execution_count": null,
   "id": "8b9206b0-d3e8-4fd2-ba41-d781814a16e1",
   "metadata": {},
   "outputs": [],
   "source": []
  }
 ],
 "metadata": {
  "kernelspec": {
   "display_name": "Python 3",
   "language": "python",
   "name": "python3"
  },
  "language_info": {
   "codemirror_mode": {
    "name": "ipython",
    "version": 3
   },
   "file_extension": ".py",
   "mimetype": "text/x-python",
   "name": "python",
   "nbconvert_exporter": "python",
   "pygments_lexer": "ipython3",
   "version": "3.7.6"
  }
 },
 "nbformat": 4,
 "nbformat_minor": 5
}
